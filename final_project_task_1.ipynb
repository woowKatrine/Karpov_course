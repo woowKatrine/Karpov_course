{
 "cells": [
  {
   "cell_type": "code",
   "execution_count": 1,
   "metadata": {},
   "outputs": [],
   "source": [
    "import pandas as pd"
   ]
  },
  {
   "cell_type": "markdown",
   "metadata": {},
   "source": [
    "**Задание 1**\n",
    "\n",
    "Retention – один из самых важных показателей в компании. Ваша задача – написать функцию, которая будет считать retention игроков (по дням от даты регистрации игрока)."
   ]
  },
  {
   "cell_type": "markdown",
   "metadata": {},
   "source": [
    "**Решение.**"
   ]
  },
  {
   "cell_type": "markdown",
   "metadata": {},
   "source": [
    "Retention игроков. Хотим узнать, сколько игроков возвращаются после нулевого дня. \n",
    "- Разброс данных очень большой, нет смысла анализировать весь период, за много лет. Возьмём только 2019 год, группировка по месяцам\n",
    "- день 0- данные о времени регистрации\n"
   ]
  },
  {
   "cell_type": "code",
   "execution_count": 2,
   "metadata": {},
   "outputs": [],
   "source": [
    "registration = pd.read_csv(\"~/shared/problem1-reg_data.csv\", sep=';')  # регистрация пользователей, id + время\n",
    "authorisation = pd.read_csv(\"~/shared/problem1-auth_data.csv\", sep=';')  # входы в приложение id + время"
   ]
  },
  {
   "cell_type": "code",
   "execution_count": 3,
   "metadata": {},
   "outputs": [],
   "source": [
    "registration['reg_ts'] = pd.to_datetime(registration['reg_ts'], unit='s')\n",
    "authorisation['auth_ts'] = pd.to_datetime(authorisation['auth_ts'], unit='s')  # приводим время в читабельный вид"
   ]
  },
  {
   "cell_type": "code",
   "execution_count": 4,
   "metadata": {},
   "outputs": [
    {
     "data": {
      "text/plain": [
       "auth_ts    0\n",
       "uid        0\n",
       "dtype: int64"
      ]
     },
     "execution_count": 4,
     "metadata": {},
     "output_type": "execute_result"
    }
   ],
   "source": [
    "authorisation.isna().sum()"
   ]
  },
  {
   "cell_type": "code",
   "execution_count": 5,
   "metadata": {},
   "outputs": [
    {
     "data": {
      "text/plain": [
       "reg_ts    0\n",
       "uid       0\n",
       "dtype: int64"
      ]
     },
     "execution_count": 5,
     "metadata": {},
     "output_type": "execute_result"
    }
   ],
   "source": [
    "registration.isna().sum()"
   ]
  },
  {
   "cell_type": "code",
   "execution_count": 6,
   "metadata": {},
   "outputs": [
    {
     "data": {
      "text/plain": [
       "0"
      ]
     },
     "execution_count": 6,
     "metadata": {},
     "output_type": "execute_result"
    }
   ],
   "source": [
    "registration.uid.duplicated().sum()"
   ]
  },
  {
   "cell_type": "code",
   "execution_count": 7,
   "metadata": {},
   "outputs": [],
   "source": [
    "registration_sample = registration.query('\"2019-01-01 00:00:00\" <= reg_ts <= \"2019-12-31 23:59:59\"')\n",
    "authorisation_sample = authorisation.query('\"2019-01-01 00:00:00\" <= auth_ts <= \"2019-12-31 23:59:59\"')"
   ]
  },
  {
   "cell_type": "code",
   "execution_count": null,
   "metadata": {},
   "outputs": [],
   "source": []
  },
  {
   "cell_type": "code",
   "execution_count": 20,
   "metadata": {},
   "outputs": [],
   "source": [
    "def retention(registrations_data, authorisations_data, number_ret_day_array):    \n",
    "    \"\"\"Функция для подсчета retention. Принимает параметры- дата регистрации, авторизации и кол-во дней для расчёта\"\"\"\n",
    "    full_logs = authorisations_data.merge(registrations_data, how='left', on='uid')  # собираем день регистрации и логи в одну таблицу     \n",
    "    full_logs['day'] = full_logs['reg_ts'].dt.to_period('M')  # месяц регистрации\n",
    "    full_logs['reg_ts'] = full_logs['reg_ts'].dt.to_period('D')  # день регистрации\n",
    "    full_logs['auth_ts'] = full_logs['auth_ts'].dt.to_period('D')  # день входа в игру\n",
    "    full_logs['Number_days'] = full_logs.auth_ts.astype(int) - full_logs.reg_ts.astype(int)  # кол-во дней между регистрацией и авторизацией    \n",
    "    full_logs = full_logs.groupby(['day', 'Number_days'], as_index=False)\\\n",
    "           .uid.apply(pd.Series.nunique)  # собираем данные по месяцам  \n",
    "   \n",
    "    full_logs = full_logs.pivot(index='day',\n",
    "                  columns='Number_days',  # собираем таблицу\n",
    "                  values='uid')\n",
    "    \n",
    "    if (0 in number_ret_day_array) == False:                    \n",
    "        number_ret_day_array.insert(0, 0)\n",
    "        \n",
    "    full_logs = full_logs[number_ret_day_array]\n",
    "    day_total = full_logs.iloc[:, 0]  # количество пользователей в месяц\n",
    "    full_logs = full_logs.divide(day_total, axis=0).fillna(0)  # делим все столбцы на столбец с кол-м пользователей в месяц\n",
    "    df_style = ( full_logs\\\n",
    "                .style\\\n",
    "                .format(\"{:.1%}\"))    \n",
    "    return df_style                                     "
   ]
  },
  {
   "cell_type": "code",
   "execution_count": 21,
   "metadata": {},
   "outputs": [
    {
     "data": {
      "text/html": [
       "<style  type=\"text/css\" >\n",
       "</style><table id=\"T_e3d0d35e_2538_11ec_bdbb_96000040dfb6\" ><thead>    <tr>        <th class=\"index_name level0\" >Number_days</th>        <th class=\"col_heading level0 col0\" >0</th>        <th class=\"col_heading level0 col1\" >1</th>        <th class=\"col_heading level0 col2\" >2</th>        <th class=\"col_heading level0 col3\" >3</th>        <th class=\"col_heading level0 col4\" >5</th>        <th class=\"col_heading level0 col5\" >6</th>        <th class=\"col_heading level0 col6\" >7</th>        <th class=\"col_heading level0 col7\" >14</th>        <th class=\"col_heading level0 col8\" >30</th>        <th class=\"col_heading level0 col9\" >60</th>        <th class=\"col_heading level0 col10\" >90</th>        <th class=\"col_heading level0 col11\" >120</th>    </tr>    <tr>        <th class=\"index_name level0\" >day</th>        <th class=\"blank\" ></th>        <th class=\"blank\" ></th>        <th class=\"blank\" ></th>        <th class=\"blank\" ></th>        <th class=\"blank\" ></th>        <th class=\"blank\" ></th>        <th class=\"blank\" ></th>        <th class=\"blank\" ></th>        <th class=\"blank\" ></th>        <th class=\"blank\" ></th>        <th class=\"blank\" ></th>        <th class=\"blank\" ></th>    </tr></thead><tbody>\n",
       "                <tr>\n",
       "                        <th id=\"T_e3d0d35e_2538_11ec_bdbb_96000040dfb6level0_row0\" class=\"row_heading level0 row0\" >2019-01</th>\n",
       "                        <td id=\"T_e3d0d35e_2538_11ec_bdbb_96000040dfb6row0_col0\" class=\"data row0 col0\" >100.0%</td>\n",
       "                        <td id=\"T_e3d0d35e_2538_11ec_bdbb_96000040dfb6row0_col1\" class=\"data row0 col1\" >2.0%</td>\n",
       "                        <td id=\"T_e3d0d35e_2538_11ec_bdbb_96000040dfb6row0_col2\" class=\"data row0 col2\" >4.0%</td>\n",
       "                        <td id=\"T_e3d0d35e_2538_11ec_bdbb_96000040dfb6row0_col3\" class=\"data row0 col3\" >4.8%</td>\n",
       "                        <td id=\"T_e3d0d35e_2538_11ec_bdbb_96000040dfb6row0_col4\" class=\"data row0 col4\" >6.4%</td>\n",
       "                        <td id=\"T_e3d0d35e_2538_11ec_bdbb_96000040dfb6row0_col5\" class=\"data row0 col5\" >6.9%</td>\n",
       "                        <td id=\"T_e3d0d35e_2538_11ec_bdbb_96000040dfb6row0_col6\" class=\"data row0 col6\" >6.1%</td>\n",
       "                        <td id=\"T_e3d0d35e_2538_11ec_bdbb_96000040dfb6row0_col7\" class=\"data row0 col7\" >4.9%</td>\n",
       "                        <td id=\"T_e3d0d35e_2538_11ec_bdbb_96000040dfb6row0_col8\" class=\"data row0 col8\" >2.8%</td>\n",
       "                        <td id=\"T_e3d0d35e_2538_11ec_bdbb_96000040dfb6row0_col9\" class=\"data row0 col9\" >1.2%</td>\n",
       "                        <td id=\"T_e3d0d35e_2538_11ec_bdbb_96000040dfb6row0_col10\" class=\"data row0 col10\" >1.3%</td>\n",
       "                        <td id=\"T_e3d0d35e_2538_11ec_bdbb_96000040dfb6row0_col11\" class=\"data row0 col11\" >1.3%</td>\n",
       "            </tr>\n",
       "            <tr>\n",
       "                        <th id=\"T_e3d0d35e_2538_11ec_bdbb_96000040dfb6level0_row1\" class=\"row_heading level0 row1\" >2019-02</th>\n",
       "                        <td id=\"T_e3d0d35e_2538_11ec_bdbb_96000040dfb6row1_col0\" class=\"data row1 col0\" >100.0%</td>\n",
       "                        <td id=\"T_e3d0d35e_2538_11ec_bdbb_96000040dfb6row1_col1\" class=\"data row1 col1\" >2.0%</td>\n",
       "                        <td id=\"T_e3d0d35e_2538_11ec_bdbb_96000040dfb6row1_col2\" class=\"data row1 col2\" >4.3%</td>\n",
       "                        <td id=\"T_e3d0d35e_2538_11ec_bdbb_96000040dfb6row1_col3\" class=\"data row1 col3\" >4.6%</td>\n",
       "                        <td id=\"T_e3d0d35e_2538_11ec_bdbb_96000040dfb6row1_col4\" class=\"data row1 col4\" >6.2%</td>\n",
       "                        <td id=\"T_e3d0d35e_2538_11ec_bdbb_96000040dfb6row1_col5\" class=\"data row1 col5\" >6.9%</td>\n",
       "                        <td id=\"T_e3d0d35e_2538_11ec_bdbb_96000040dfb6row1_col6\" class=\"data row1 col6\" >6.1%</td>\n",
       "                        <td id=\"T_e3d0d35e_2538_11ec_bdbb_96000040dfb6row1_col7\" class=\"data row1 col7\" >4.7%</td>\n",
       "                        <td id=\"T_e3d0d35e_2538_11ec_bdbb_96000040dfb6row1_col8\" class=\"data row1 col8\" >2.9%</td>\n",
       "                        <td id=\"T_e3d0d35e_2538_11ec_bdbb_96000040dfb6row1_col9\" class=\"data row1 col9\" >1.3%</td>\n",
       "                        <td id=\"T_e3d0d35e_2538_11ec_bdbb_96000040dfb6row1_col10\" class=\"data row1 col10\" >1.4%</td>\n",
       "                        <td id=\"T_e3d0d35e_2538_11ec_bdbb_96000040dfb6row1_col11\" class=\"data row1 col11\" >1.2%</td>\n",
       "            </tr>\n",
       "            <tr>\n",
       "                        <th id=\"T_e3d0d35e_2538_11ec_bdbb_96000040dfb6level0_row2\" class=\"row_heading level0 row2\" >2019-03</th>\n",
       "                        <td id=\"T_e3d0d35e_2538_11ec_bdbb_96000040dfb6row2_col0\" class=\"data row2 col0\" >100.0%</td>\n",
       "                        <td id=\"T_e3d0d35e_2538_11ec_bdbb_96000040dfb6row2_col1\" class=\"data row2 col1\" >2.0%</td>\n",
       "                        <td id=\"T_e3d0d35e_2538_11ec_bdbb_96000040dfb6row2_col2\" class=\"data row2 col2\" >4.2%</td>\n",
       "                        <td id=\"T_e3d0d35e_2538_11ec_bdbb_96000040dfb6row2_col3\" class=\"data row2 col3\" >4.6%</td>\n",
       "                        <td id=\"T_e3d0d35e_2538_11ec_bdbb_96000040dfb6row2_col4\" class=\"data row2 col4\" >6.1%</td>\n",
       "                        <td id=\"T_e3d0d35e_2538_11ec_bdbb_96000040dfb6row2_col5\" class=\"data row2 col5\" >6.8%</td>\n",
       "                        <td id=\"T_e3d0d35e_2538_11ec_bdbb_96000040dfb6row2_col6\" class=\"data row2 col6\" >5.8%</td>\n",
       "                        <td id=\"T_e3d0d35e_2538_11ec_bdbb_96000040dfb6row2_col7\" class=\"data row2 col7\" >4.5%</td>\n",
       "                        <td id=\"T_e3d0d35e_2538_11ec_bdbb_96000040dfb6row2_col8\" class=\"data row2 col8\" >2.8%</td>\n",
       "                        <td id=\"T_e3d0d35e_2538_11ec_bdbb_96000040dfb6row2_col9\" class=\"data row2 col9\" >1.3%</td>\n",
       "                        <td id=\"T_e3d0d35e_2538_11ec_bdbb_96000040dfb6row2_col10\" class=\"data row2 col10\" >1.1%</td>\n",
       "                        <td id=\"T_e3d0d35e_2538_11ec_bdbb_96000040dfb6row2_col11\" class=\"data row2 col11\" >1.3%</td>\n",
       "            </tr>\n",
       "            <tr>\n",
       "                        <th id=\"T_e3d0d35e_2538_11ec_bdbb_96000040dfb6level0_row3\" class=\"row_heading level0 row3\" >2019-04</th>\n",
       "                        <td id=\"T_e3d0d35e_2538_11ec_bdbb_96000040dfb6row3_col0\" class=\"data row3 col0\" >100.0%</td>\n",
       "                        <td id=\"T_e3d0d35e_2538_11ec_bdbb_96000040dfb6row3_col1\" class=\"data row3 col1\" >1.9%</td>\n",
       "                        <td id=\"T_e3d0d35e_2538_11ec_bdbb_96000040dfb6row3_col2\" class=\"data row3 col2\" >3.9%</td>\n",
       "                        <td id=\"T_e3d0d35e_2538_11ec_bdbb_96000040dfb6row3_col3\" class=\"data row3 col3\" >4.9%</td>\n",
       "                        <td id=\"T_e3d0d35e_2538_11ec_bdbb_96000040dfb6row3_col4\" class=\"data row3 col4\" >6.0%</td>\n",
       "                        <td id=\"T_e3d0d35e_2538_11ec_bdbb_96000040dfb6row3_col5\" class=\"data row3 col5\" >6.7%</td>\n",
       "                        <td id=\"T_e3d0d35e_2538_11ec_bdbb_96000040dfb6row3_col6\" class=\"data row3 col6\" >5.9%</td>\n",
       "                        <td id=\"T_e3d0d35e_2538_11ec_bdbb_96000040dfb6row3_col7\" class=\"data row3 col7\" >4.5%</td>\n",
       "                        <td id=\"T_e3d0d35e_2538_11ec_bdbb_96000040dfb6row3_col8\" class=\"data row3 col8\" >2.8%</td>\n",
       "                        <td id=\"T_e3d0d35e_2538_11ec_bdbb_96000040dfb6row3_col9\" class=\"data row3 col9\" >1.3%</td>\n",
       "                        <td id=\"T_e3d0d35e_2538_11ec_bdbb_96000040dfb6row3_col10\" class=\"data row3 col10\" >1.2%</td>\n",
       "                        <td id=\"T_e3d0d35e_2538_11ec_bdbb_96000040dfb6row3_col11\" class=\"data row3 col11\" >1.2%</td>\n",
       "            </tr>\n",
       "            <tr>\n",
       "                        <th id=\"T_e3d0d35e_2538_11ec_bdbb_96000040dfb6level0_row4\" class=\"row_heading level0 row4\" >2019-05</th>\n",
       "                        <td id=\"T_e3d0d35e_2538_11ec_bdbb_96000040dfb6row4_col0\" class=\"data row4 col0\" >100.0%</td>\n",
       "                        <td id=\"T_e3d0d35e_2538_11ec_bdbb_96000040dfb6row4_col1\" class=\"data row4 col1\" >2.0%</td>\n",
       "                        <td id=\"T_e3d0d35e_2538_11ec_bdbb_96000040dfb6row4_col2\" class=\"data row4 col2\" >4.1%</td>\n",
       "                        <td id=\"T_e3d0d35e_2538_11ec_bdbb_96000040dfb6row4_col3\" class=\"data row4 col3\" >4.7%</td>\n",
       "                        <td id=\"T_e3d0d35e_2538_11ec_bdbb_96000040dfb6row4_col4\" class=\"data row4 col4\" >5.9%</td>\n",
       "                        <td id=\"T_e3d0d35e_2538_11ec_bdbb_96000040dfb6row4_col5\" class=\"data row4 col5\" >6.9%</td>\n",
       "                        <td id=\"T_e3d0d35e_2538_11ec_bdbb_96000040dfb6row4_col6\" class=\"data row4 col6\" >6.0%</td>\n",
       "                        <td id=\"T_e3d0d35e_2538_11ec_bdbb_96000040dfb6row4_col7\" class=\"data row4 col7\" >4.4%</td>\n",
       "                        <td id=\"T_e3d0d35e_2538_11ec_bdbb_96000040dfb6row4_col8\" class=\"data row4 col8\" >2.7%</td>\n",
       "                        <td id=\"T_e3d0d35e_2538_11ec_bdbb_96000040dfb6row4_col9\" class=\"data row4 col9\" >1.3%</td>\n",
       "                        <td id=\"T_e3d0d35e_2538_11ec_bdbb_96000040dfb6row4_col10\" class=\"data row4 col10\" >1.3%</td>\n",
       "                        <td id=\"T_e3d0d35e_2538_11ec_bdbb_96000040dfb6row4_col11\" class=\"data row4 col11\" >1.2%</td>\n",
       "            </tr>\n",
       "            <tr>\n",
       "                        <th id=\"T_e3d0d35e_2538_11ec_bdbb_96000040dfb6level0_row5\" class=\"row_heading level0 row5\" >2019-06</th>\n",
       "                        <td id=\"T_e3d0d35e_2538_11ec_bdbb_96000040dfb6row5_col0\" class=\"data row5 col0\" >100.0%</td>\n",
       "                        <td id=\"T_e3d0d35e_2538_11ec_bdbb_96000040dfb6row5_col1\" class=\"data row5 col1\" >2.0%</td>\n",
       "                        <td id=\"T_e3d0d35e_2538_11ec_bdbb_96000040dfb6row5_col2\" class=\"data row5 col2\" >4.3%</td>\n",
       "                        <td id=\"T_e3d0d35e_2538_11ec_bdbb_96000040dfb6row5_col3\" class=\"data row5 col3\" >4.7%</td>\n",
       "                        <td id=\"T_e3d0d35e_2538_11ec_bdbb_96000040dfb6row5_col4\" class=\"data row5 col4\" >6.3%</td>\n",
       "                        <td id=\"T_e3d0d35e_2538_11ec_bdbb_96000040dfb6row5_col5\" class=\"data row5 col5\" >6.9%</td>\n",
       "                        <td id=\"T_e3d0d35e_2538_11ec_bdbb_96000040dfb6row5_col6\" class=\"data row5 col6\" >5.8%</td>\n",
       "                        <td id=\"T_e3d0d35e_2538_11ec_bdbb_96000040dfb6row5_col7\" class=\"data row5 col7\" >4.5%</td>\n",
       "                        <td id=\"T_e3d0d35e_2538_11ec_bdbb_96000040dfb6row5_col8\" class=\"data row5 col8\" >2.8%</td>\n",
       "                        <td id=\"T_e3d0d35e_2538_11ec_bdbb_96000040dfb6row5_col9\" class=\"data row5 col9\" >1.2%</td>\n",
       "                        <td id=\"T_e3d0d35e_2538_11ec_bdbb_96000040dfb6row5_col10\" class=\"data row5 col10\" >1.3%</td>\n",
       "                        <td id=\"T_e3d0d35e_2538_11ec_bdbb_96000040dfb6row5_col11\" class=\"data row5 col11\" >1.3%</td>\n",
       "            </tr>\n",
       "            <tr>\n",
       "                        <th id=\"T_e3d0d35e_2538_11ec_bdbb_96000040dfb6level0_row6\" class=\"row_heading level0 row6\" >2019-07</th>\n",
       "                        <td id=\"T_e3d0d35e_2538_11ec_bdbb_96000040dfb6row6_col0\" class=\"data row6 col0\" >100.0%</td>\n",
       "                        <td id=\"T_e3d0d35e_2538_11ec_bdbb_96000040dfb6row6_col1\" class=\"data row6 col1\" >2.0%</td>\n",
       "                        <td id=\"T_e3d0d35e_2538_11ec_bdbb_96000040dfb6row6_col2\" class=\"data row6 col2\" >4.1%</td>\n",
       "                        <td id=\"T_e3d0d35e_2538_11ec_bdbb_96000040dfb6row6_col3\" class=\"data row6 col3\" >4.9%</td>\n",
       "                        <td id=\"T_e3d0d35e_2538_11ec_bdbb_96000040dfb6row6_col4\" class=\"data row6 col4\" >6.1%</td>\n",
       "                        <td id=\"T_e3d0d35e_2538_11ec_bdbb_96000040dfb6row6_col5\" class=\"data row6 col5\" >6.8%</td>\n",
       "                        <td id=\"T_e3d0d35e_2538_11ec_bdbb_96000040dfb6row6_col6\" class=\"data row6 col6\" >5.8%</td>\n",
       "                        <td id=\"T_e3d0d35e_2538_11ec_bdbb_96000040dfb6row6_col7\" class=\"data row6 col7\" >4.5%</td>\n",
       "                        <td id=\"T_e3d0d35e_2538_11ec_bdbb_96000040dfb6row6_col8\" class=\"data row6 col8\" >2.8%</td>\n",
       "                        <td id=\"T_e3d0d35e_2538_11ec_bdbb_96000040dfb6row6_col9\" class=\"data row6 col9\" >1.2%</td>\n",
       "                        <td id=\"T_e3d0d35e_2538_11ec_bdbb_96000040dfb6row6_col10\" class=\"data row6 col10\" >1.3%</td>\n",
       "                        <td id=\"T_e3d0d35e_2538_11ec_bdbb_96000040dfb6row6_col11\" class=\"data row6 col11\" >1.2%</td>\n",
       "            </tr>\n",
       "            <tr>\n",
       "                        <th id=\"T_e3d0d35e_2538_11ec_bdbb_96000040dfb6level0_row7\" class=\"row_heading level0 row7\" >2019-08</th>\n",
       "                        <td id=\"T_e3d0d35e_2538_11ec_bdbb_96000040dfb6row7_col0\" class=\"data row7 col0\" >100.0%</td>\n",
       "                        <td id=\"T_e3d0d35e_2538_11ec_bdbb_96000040dfb6row7_col1\" class=\"data row7 col1\" >2.2%</td>\n",
       "                        <td id=\"T_e3d0d35e_2538_11ec_bdbb_96000040dfb6row7_col2\" class=\"data row7 col2\" >4.0%</td>\n",
       "                        <td id=\"T_e3d0d35e_2538_11ec_bdbb_96000040dfb6row7_col3\" class=\"data row7 col3\" >4.5%</td>\n",
       "                        <td id=\"T_e3d0d35e_2538_11ec_bdbb_96000040dfb6row7_col4\" class=\"data row7 col4\" >5.8%</td>\n",
       "                        <td id=\"T_e3d0d35e_2538_11ec_bdbb_96000040dfb6row7_col5\" class=\"data row7 col5\" >6.8%</td>\n",
       "                        <td id=\"T_e3d0d35e_2538_11ec_bdbb_96000040dfb6row7_col6\" class=\"data row7 col6\" >5.9%</td>\n",
       "                        <td id=\"T_e3d0d35e_2538_11ec_bdbb_96000040dfb6row7_col7\" class=\"data row7 col7\" >4.3%</td>\n",
       "                        <td id=\"T_e3d0d35e_2538_11ec_bdbb_96000040dfb6row7_col8\" class=\"data row7 col8\" >2.8%</td>\n",
       "                        <td id=\"T_e3d0d35e_2538_11ec_bdbb_96000040dfb6row7_col9\" class=\"data row7 col9\" >1.2%</td>\n",
       "                        <td id=\"T_e3d0d35e_2538_11ec_bdbb_96000040dfb6row7_col10\" class=\"data row7 col10\" >1.1%</td>\n",
       "                        <td id=\"T_e3d0d35e_2538_11ec_bdbb_96000040dfb6row7_col11\" class=\"data row7 col11\" >1.2%</td>\n",
       "            </tr>\n",
       "            <tr>\n",
       "                        <th id=\"T_e3d0d35e_2538_11ec_bdbb_96000040dfb6level0_row8\" class=\"row_heading level0 row8\" >2019-09</th>\n",
       "                        <td id=\"T_e3d0d35e_2538_11ec_bdbb_96000040dfb6row8_col0\" class=\"data row8 col0\" >100.0%</td>\n",
       "                        <td id=\"T_e3d0d35e_2538_11ec_bdbb_96000040dfb6row8_col1\" class=\"data row8 col1\" >1.9%</td>\n",
       "                        <td id=\"T_e3d0d35e_2538_11ec_bdbb_96000040dfb6row8_col2\" class=\"data row8 col2\" >4.0%</td>\n",
       "                        <td id=\"T_e3d0d35e_2538_11ec_bdbb_96000040dfb6row8_col3\" class=\"data row8 col3\" >4.5%</td>\n",
       "                        <td id=\"T_e3d0d35e_2538_11ec_bdbb_96000040dfb6row8_col4\" class=\"data row8 col4\" >6.0%</td>\n",
       "                        <td id=\"T_e3d0d35e_2538_11ec_bdbb_96000040dfb6row8_col5\" class=\"data row8 col5\" >6.8%</td>\n",
       "                        <td id=\"T_e3d0d35e_2538_11ec_bdbb_96000040dfb6row8_col6\" class=\"data row8 col6\" >6.1%</td>\n",
       "                        <td id=\"T_e3d0d35e_2538_11ec_bdbb_96000040dfb6row8_col7\" class=\"data row8 col7\" >4.4%</td>\n",
       "                        <td id=\"T_e3d0d35e_2538_11ec_bdbb_96000040dfb6row8_col8\" class=\"data row8 col8\" >2.8%</td>\n",
       "                        <td id=\"T_e3d0d35e_2538_11ec_bdbb_96000040dfb6row8_col9\" class=\"data row8 col9\" >1.2%</td>\n",
       "                        <td id=\"T_e3d0d35e_2538_11ec_bdbb_96000040dfb6row8_col10\" class=\"data row8 col10\" >1.3%</td>\n",
       "                        <td id=\"T_e3d0d35e_2538_11ec_bdbb_96000040dfb6row8_col11\" class=\"data row8 col11\" >0.1%</td>\n",
       "            </tr>\n",
       "            <tr>\n",
       "                        <th id=\"T_e3d0d35e_2538_11ec_bdbb_96000040dfb6level0_row9\" class=\"row_heading level0 row9\" >2019-10</th>\n",
       "                        <td id=\"T_e3d0d35e_2538_11ec_bdbb_96000040dfb6row9_col0\" class=\"data row9 col0\" >100.0%</td>\n",
       "                        <td id=\"T_e3d0d35e_2538_11ec_bdbb_96000040dfb6row9_col1\" class=\"data row9 col1\" >2.1%</td>\n",
       "                        <td id=\"T_e3d0d35e_2538_11ec_bdbb_96000040dfb6row9_col2\" class=\"data row9 col2\" >4.2%</td>\n",
       "                        <td id=\"T_e3d0d35e_2538_11ec_bdbb_96000040dfb6row9_col3\" class=\"data row9 col3\" >4.3%</td>\n",
       "                        <td id=\"T_e3d0d35e_2538_11ec_bdbb_96000040dfb6row9_col4\" class=\"data row9 col4\" >6.0%</td>\n",
       "                        <td id=\"T_e3d0d35e_2538_11ec_bdbb_96000040dfb6row9_col5\" class=\"data row9 col5\" >7.0%</td>\n",
       "                        <td id=\"T_e3d0d35e_2538_11ec_bdbb_96000040dfb6row9_col6\" class=\"data row9 col6\" >5.6%</td>\n",
       "                        <td id=\"T_e3d0d35e_2538_11ec_bdbb_96000040dfb6row9_col7\" class=\"data row9 col7\" >4.7%</td>\n",
       "                        <td id=\"T_e3d0d35e_2538_11ec_bdbb_96000040dfb6row9_col8\" class=\"data row9 col8\" >2.8%</td>\n",
       "                        <td id=\"T_e3d0d35e_2538_11ec_bdbb_96000040dfb6row9_col9\" class=\"data row9 col9\" >1.2%</td>\n",
       "                        <td id=\"T_e3d0d35e_2538_11ec_bdbb_96000040dfb6row9_col10\" class=\"data row9 col10\" >0.1%</td>\n",
       "                        <td id=\"T_e3d0d35e_2538_11ec_bdbb_96000040dfb6row9_col11\" class=\"data row9 col11\" >0.0%</td>\n",
       "            </tr>\n",
       "            <tr>\n",
       "                        <th id=\"T_e3d0d35e_2538_11ec_bdbb_96000040dfb6level0_row10\" class=\"row_heading level0 row10\" >2019-11</th>\n",
       "                        <td id=\"T_e3d0d35e_2538_11ec_bdbb_96000040dfb6row10_col0\" class=\"data row10 col0\" >100.0%</td>\n",
       "                        <td id=\"T_e3d0d35e_2538_11ec_bdbb_96000040dfb6row10_col1\" class=\"data row10 col1\" >2.0%</td>\n",
       "                        <td id=\"T_e3d0d35e_2538_11ec_bdbb_96000040dfb6row10_col2\" class=\"data row10 col2\" >4.3%</td>\n",
       "                        <td id=\"T_e3d0d35e_2538_11ec_bdbb_96000040dfb6row10_col3\" class=\"data row10 col3\" >4.6%</td>\n",
       "                        <td id=\"T_e3d0d35e_2538_11ec_bdbb_96000040dfb6row10_col4\" class=\"data row10 col4\" >6.0%</td>\n",
       "                        <td id=\"T_e3d0d35e_2538_11ec_bdbb_96000040dfb6row10_col5\" class=\"data row10 col5\" >6.8%</td>\n",
       "                        <td id=\"T_e3d0d35e_2538_11ec_bdbb_96000040dfb6row10_col6\" class=\"data row10 col6\" >6.0%</td>\n",
       "                        <td id=\"T_e3d0d35e_2538_11ec_bdbb_96000040dfb6row10_col7\" class=\"data row10 col7\" >4.6%</td>\n",
       "                        <td id=\"T_e3d0d35e_2538_11ec_bdbb_96000040dfb6row10_col8\" class=\"data row10 col8\" >2.8%</td>\n",
       "                        <td id=\"T_e3d0d35e_2538_11ec_bdbb_96000040dfb6row10_col9\" class=\"data row10 col9\" >0.0%</td>\n",
       "                        <td id=\"T_e3d0d35e_2538_11ec_bdbb_96000040dfb6row10_col10\" class=\"data row10 col10\" >0.0%</td>\n",
       "                        <td id=\"T_e3d0d35e_2538_11ec_bdbb_96000040dfb6row10_col11\" class=\"data row10 col11\" >0.0%</td>\n",
       "            </tr>\n",
       "            <tr>\n",
       "                        <th id=\"T_e3d0d35e_2538_11ec_bdbb_96000040dfb6level0_row11\" class=\"row_heading level0 row11\" >2019-12</th>\n",
       "                        <td id=\"T_e3d0d35e_2538_11ec_bdbb_96000040dfb6row11_col0\" class=\"data row11 col0\" >100.0%</td>\n",
       "                        <td id=\"T_e3d0d35e_2538_11ec_bdbb_96000040dfb6row11_col1\" class=\"data row11 col1\" >1.9%</td>\n",
       "                        <td id=\"T_e3d0d35e_2538_11ec_bdbb_96000040dfb6row11_col2\" class=\"data row11 col2\" >3.8%</td>\n",
       "                        <td id=\"T_e3d0d35e_2538_11ec_bdbb_96000040dfb6row11_col3\" class=\"data row11 col3\" >4.2%</td>\n",
       "                        <td id=\"T_e3d0d35e_2538_11ec_bdbb_96000040dfb6row11_col4\" class=\"data row11 col4\" >5.0%</td>\n",
       "                        <td id=\"T_e3d0d35e_2538_11ec_bdbb_96000040dfb6row11_col5\" class=\"data row11 col5\" >5.6%</td>\n",
       "                        <td id=\"T_e3d0d35e_2538_11ec_bdbb_96000040dfb6row11_col6\" class=\"data row11 col6\" >4.6%</td>\n",
       "                        <td id=\"T_e3d0d35e_2538_11ec_bdbb_96000040dfb6row11_col7\" class=\"data row11 col7\" >2.5%</td>\n",
       "                        <td id=\"T_e3d0d35e_2538_11ec_bdbb_96000040dfb6row11_col8\" class=\"data row11 col8\" >0.1%</td>\n",
       "                        <td id=\"T_e3d0d35e_2538_11ec_bdbb_96000040dfb6row11_col9\" class=\"data row11 col9\" >0.0%</td>\n",
       "                        <td id=\"T_e3d0d35e_2538_11ec_bdbb_96000040dfb6row11_col10\" class=\"data row11 col10\" >0.0%</td>\n",
       "                        <td id=\"T_e3d0d35e_2538_11ec_bdbb_96000040dfb6row11_col11\" class=\"data row11 col11\" >0.0%</td>\n",
       "            </tr>\n",
       "    </tbody></table>"
      ],
      "text/plain": [
       "<pandas.io.formats.style.Styler at 0x7f43b07ced30>"
      ]
     },
     "execution_count": 21,
     "metadata": {},
     "output_type": "execute_result"
    }
   ],
   "source": [
    "retention(registration_sample, authorisation_sample, [1, 2, 3, 5, 6, 7, 14, 30, 60, 90, 120])"
   ]
  },
  {
   "cell_type": "code",
   "execution_count": null,
   "metadata": {},
   "outputs": [],
   "source": []
  },
  {
   "cell_type": "code",
   "execution_count": null,
   "metadata": {},
   "outputs": [],
   "source": []
  },
  {
   "cell_type": "code",
   "execution_count": null,
   "metadata": {},
   "outputs": [],
   "source": []
  }
 ],
 "metadata": {
  "kernelspec": {
   "display_name": "Python 3",
   "language": "python",
   "name": "python3"
  },
  "language_info": {
   "codemirror_mode": {
    "name": "ipython",
    "version": 3
   },
   "file_extension": ".py",
   "mimetype": "text/x-python",
   "name": "python",
   "nbconvert_exporter": "python",
   "pygments_lexer": "ipython3",
   "version": "3.7.3"
  }
 },
 "nbformat": 4,
 "nbformat_minor": 4
}
